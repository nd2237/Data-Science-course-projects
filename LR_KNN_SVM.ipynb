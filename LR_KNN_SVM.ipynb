{
 "cells": [
  {
   "cell_type": "code",
   "execution_count": 1,
   "id": "e8ea4933",
   "metadata": {},
   "outputs": [],
   "source": [
    "import cv2\n",
    "import os\n",
    "import numpy as np\n",
    "import pandas as pd\n",
    "\n",
    "import warnings\n",
    "warnings.filterwarnings(\"ignore\")\n",
    "\n",
    "array_of_img = []\n",
    "file_names = []\n",
    "gender_labels = []\n",
    "def read_directory(directory_name):\n",
    "    for filename_1 in range(1, 41):\n",
    "        for filename_2 in range(1, 11): \n",
    "            img = cv2.imread(directory_name + \"/\" + str(filename_1) + '_' + str(filename_2) + \".png\", 0)\n",
    "            if filename_1 in [1, 8, 10, 32]:\n",
    "                gender_labels.append(0)\n",
    "            else:\n",
    "                gender_labels.append(1)\n",
    "            array_of_img.append(img)\n",
    "    arr = np.array(array_of_img)\n",
    "    arr = arr.reshape(400, 2576)\n",
    "    data = pd.DataFrame(arr)\n",
    "    data['gender'] = [g for g in gender_labels]\n",
    "    return arr, gender_labels, data\n",
    "\n",
    "arr, gender_labels, data = read_directory(\"/Users/nuo/Documents/DA/HW2/ORL Faces\")"
   ]
  },
  {
   "cell_type": "code",
   "execution_count": 2,
   "id": "536a9f04",
   "metadata": {},
   "outputs": [],
   "source": [
    "from sklearn import preprocessing\n",
    "from sklearn.preprocessing import LabelEncoder\n",
    "from sklearn.model_selection import train_test_split"
   ]
  },
  {
   "cell_type": "code",
   "execution_count": 3,
   "id": "5c9bbd66",
   "metadata": {},
   "outputs": [],
   "source": [
    "X_train, X_test, y_train, y_test = train_test_split(arr, gender_labels, test_size=0.3, random_state=42)"
   ]
  },
  {
   "cell_type": "code",
   "execution_count": 4,
   "id": "97b915cf",
   "metadata": {},
   "outputs": [],
   "source": [
    "# LR\n",
    "from sklearn.linear_model import LogisticRegression\n",
    "\n",
    "lr = LogisticRegression().fit(X_train, y_train)"
   ]
  },
  {
   "cell_type": "code",
   "execution_count": 5,
   "id": "b22eb2b1",
   "metadata": {},
   "outputs": [
    {
     "name": "stdout",
     "output_type": "stream",
     "text": [
      "LR accuracy: 0.9583333333333334\n"
     ]
    }
   ],
   "source": [
    "predictions = lr.predict(X_test)\n",
    "accuracy = lr.score(X_test, y_test)\n",
    "print(\"LR accuracy:\", accuracy)"
   ]
  },
  {
   "cell_type": "code",
   "execution_count": 6,
   "id": "85e07af0",
   "metadata": {},
   "outputs": [],
   "source": [
    "# KNN\n",
    "from sklearn.neighbors import KNeighborsClassifier\n",
    "from sklearn import metrics\n",
    "from sklearn.metrics import accuracy_score\n",
    "\n",
    "accuracy_knn = 0\n",
    "k_highest = 0\n",
    "prediction = []\n",
    "for i in range(2, 10):\n",
    "    knn = KNeighborsClassifier(n_neighbors = i)\n",
    "    model_knn = knn.fit(X_train, y_train)\n",
    "    predict_knn = model_knn.predict(X_test)\n",
    "    acc = accuracy_score(y_test, predict_knn)\n",
    "    if acc > accuracy_knn:\n",
    "        accuracy_knn = acc\n",
    "        k_highest = i\n",
    "        prediction = predict_knn"
   ]
  },
  {
   "cell_type": "code",
   "execution_count": 7,
   "id": "d07ee159",
   "metadata": {},
   "outputs": [
    {
     "name": "stdout",
     "output_type": "stream",
     "text": [
      "KNN accuracy: 0.9916666666666667 , k = 2\n"
     ]
    }
   ],
   "source": [
    "print(\"KNN accuracy:\", accuracy_knn, ', k =', k_highest, )"
   ]
  },
  {
   "cell_type": "code",
   "execution_count": 8,
   "id": "fa13a28e",
   "metadata": {},
   "outputs": [
    {
     "data": {
      "text/html": [
       "<style>#sk-container-id-1 {color: black;background-color: white;}#sk-container-id-1 pre{padding: 0;}#sk-container-id-1 div.sk-toggleable {background-color: white;}#sk-container-id-1 label.sk-toggleable__label {cursor: pointer;display: block;width: 100%;margin-bottom: 0;padding: 0.3em;box-sizing: border-box;text-align: center;}#sk-container-id-1 label.sk-toggleable__label-arrow:before {content: \"▸\";float: left;margin-right: 0.25em;color: #696969;}#sk-container-id-1 label.sk-toggleable__label-arrow:hover:before {color: black;}#sk-container-id-1 div.sk-estimator:hover label.sk-toggleable__label-arrow:before {color: black;}#sk-container-id-1 div.sk-toggleable__content {max-height: 0;max-width: 0;overflow: hidden;text-align: left;background-color: #f0f8ff;}#sk-container-id-1 div.sk-toggleable__content pre {margin: 0.2em;color: black;border-radius: 0.25em;background-color: #f0f8ff;}#sk-container-id-1 input.sk-toggleable__control:checked~div.sk-toggleable__content {max-height: 200px;max-width: 100%;overflow: auto;}#sk-container-id-1 input.sk-toggleable__control:checked~label.sk-toggleable__label-arrow:before {content: \"▾\";}#sk-container-id-1 div.sk-estimator input.sk-toggleable__control:checked~label.sk-toggleable__label {background-color: #d4ebff;}#sk-container-id-1 div.sk-label input.sk-toggleable__control:checked~label.sk-toggleable__label {background-color: #d4ebff;}#sk-container-id-1 input.sk-hidden--visually {border: 0;clip: rect(1px 1px 1px 1px);clip: rect(1px, 1px, 1px, 1px);height: 1px;margin: -1px;overflow: hidden;padding: 0;position: absolute;width: 1px;}#sk-container-id-1 div.sk-estimator {font-family: monospace;background-color: #f0f8ff;border: 1px dotted black;border-radius: 0.25em;box-sizing: border-box;margin-bottom: 0.5em;}#sk-container-id-1 div.sk-estimator:hover {background-color: #d4ebff;}#sk-container-id-1 div.sk-parallel-item::after {content: \"\";width: 100%;border-bottom: 1px solid gray;flex-grow: 1;}#sk-container-id-1 div.sk-label:hover label.sk-toggleable__label {background-color: #d4ebff;}#sk-container-id-1 div.sk-serial::before {content: \"\";position: absolute;border-left: 1px solid gray;box-sizing: border-box;top: 0;bottom: 0;left: 50%;z-index: 0;}#sk-container-id-1 div.sk-serial {display: flex;flex-direction: column;align-items: center;background-color: white;padding-right: 0.2em;padding-left: 0.2em;position: relative;}#sk-container-id-1 div.sk-item {position: relative;z-index: 1;}#sk-container-id-1 div.sk-parallel {display: flex;align-items: stretch;justify-content: center;background-color: white;position: relative;}#sk-container-id-1 div.sk-item::before, #sk-container-id-1 div.sk-parallel-item::before {content: \"\";position: absolute;border-left: 1px solid gray;box-sizing: border-box;top: 0;bottom: 0;left: 50%;z-index: -1;}#sk-container-id-1 div.sk-parallel-item {display: flex;flex-direction: column;z-index: 1;position: relative;background-color: white;}#sk-container-id-1 div.sk-parallel-item:first-child::after {align-self: flex-end;width: 50%;}#sk-container-id-1 div.sk-parallel-item:last-child::after {align-self: flex-start;width: 50%;}#sk-container-id-1 div.sk-parallel-item:only-child::after {width: 0;}#sk-container-id-1 div.sk-dashed-wrapped {border: 1px dashed gray;margin: 0 0.4em 0.5em 0.4em;box-sizing: border-box;padding-bottom: 0.4em;background-color: white;}#sk-container-id-1 div.sk-label label {font-family: monospace;font-weight: bold;display: inline-block;line-height: 1.2em;}#sk-container-id-1 div.sk-label-container {text-align: center;}#sk-container-id-1 div.sk-container {/* jupyter's `normalize.less` sets `[hidden] { display: none; }` but bootstrap.min.css set `[hidden] { display: none !important; }` so we also need the `!important` here to be able to override the default hidden behavior on the sphinx rendered scikit-learn.org. See: https://github.com/scikit-learn/scikit-learn/issues/21755 */display: inline-block !important;position: relative;}#sk-container-id-1 div.sk-text-repr-fallback {display: none;}</style><div id=\"sk-container-id-1\" class=\"sk-top-container\"><div class=\"sk-text-repr-fallback\"><pre>SVC(kernel=&#x27;linear&#x27;, probability=True)</pre><b>In a Jupyter environment, please rerun this cell to show the HTML representation or trust the notebook. <br />On GitHub, the HTML representation is unable to render, please try loading this page with nbviewer.org.</b></div><div class=\"sk-container\" hidden><div class=\"sk-item\"><div class=\"sk-estimator sk-toggleable\"><input class=\"sk-toggleable__control sk-hidden--visually\" id=\"sk-estimator-id-1\" type=\"checkbox\" checked><label for=\"sk-estimator-id-1\" class=\"sk-toggleable__label sk-toggleable__label-arrow\">SVC</label><div class=\"sk-toggleable__content\"><pre>SVC(kernel=&#x27;linear&#x27;, probability=True)</pre></div></div></div></div></div>"
      ],
      "text/plain": [
       "SVC(kernel='linear', probability=True)"
      ]
     },
     "execution_count": 8,
     "metadata": {},
     "output_type": "execute_result"
    }
   ],
   "source": [
    "# SVM\n",
    "from sklearn.svm import SVC\n",
    "\n",
    "svm = SVC(kernel='linear', probability=True)\n",
    "svm.fit(X_train, y_train)"
   ]
  },
  {
   "cell_type": "code",
   "execution_count": 9,
   "id": "ebba5315",
   "metadata": {},
   "outputs": [
    {
     "name": "stdout",
     "output_type": "stream",
     "text": [
      "SVM accuracy: 0.9583333333333334\n"
     ]
    }
   ],
   "source": [
    "predict_svm = svm.predict(X_test)\n",
    "accuracy = accuracy_score(y_test, predict_svm)\n",
    "print(\"SVM accuracy:\", accuracy)"
   ]
  },
  {
   "cell_type": "markdown",
   "id": "6c854a33",
   "metadata": {},
   "source": [
    "KNN has the best accuracy in this case."
   ]
  },
  {
   "cell_type": "markdown",
   "id": "7ee0b499",
   "metadata": {},
   "source": [
    "三者表現：KNN(0.9917) > LR = SVM(0.9583)，推測原因是因為ORL face數據的分佈特性：\n",
    "1. KNN算法對於密集分布的數據集，可以找到最近的K個鄰居，較容易對數據進行分類(例如上述得出K=2有較好的結果)，所以KNN算法可以取得較好的分類效果。\n",
    "\n",
    "2. 複雜的決策邊界：KNN算法可以適應複雜的決策邊界，因為它不需要假設數據的分佈特徵，而是通過找到最近的K個鄰居，來決定分類標籤。因此像是ORL face數據的非線性分類問題，KNN算法表現較好。"
   ]
  },
  {
   "cell_type": "code",
   "execution_count": 10,
   "id": "e84d4b05",
   "metadata": {},
   "outputs": [],
   "source": [
    "from sklearn.decomposition import PCA"
   ]
  },
  {
   "cell_type": "code",
   "execution_count": 11,
   "id": "f8b8095d",
   "metadata": {},
   "outputs": [
    {
     "name": "stdout",
     "output_type": "stream",
     "text": [
      "0.9583333333333334 60\n",
      "0.9583333333333334 67\n"
     ]
    }
   ],
   "source": [
    "# LogisticRegression\n",
    "for i in range(10, 100):\n",
    "    pca = PCA(n_components = i)\n",
    "    pca.fit(X_train)\n",
    "    X_pca = pca.transform(X_train)\n",
    "    X_pca_test = pca.transform(X_test)\n",
    "    lr = LogisticRegression().fit(X_pca, y_train)\n",
    "    predictions = lr.predict(X_pca_test)\n",
    "    accuracy = lr.score(X_pca_test, y_test)\n",
    "    if accuracy > 0.95:\n",
    "        print(accuracy, i)"
   ]
  },
  {
   "cell_type": "markdown",
   "id": "ad2be696",
   "metadata": {},
   "source": [
    "根據上述輸出結果：\n",
    "\n",
    "n_components = [60, 67], accuracy = 0.9583 = the same accuracy of LR in Q1"
   ]
  },
  {
   "cell_type": "code",
   "execution_count": 12,
   "id": "bdbacc37",
   "metadata": {},
   "outputs": [
    {
     "name": "stdout",
     "output_type": "stream",
     "text": [
      "0.9916666666666667 13\n",
      "0.9916666666666667 14\n",
      "0.9916666666666667 15\n",
      "0.9916666666666667 24\n",
      "0.9916666666666667 25\n",
      "0.9916666666666667 26\n",
      "0.9916666666666667 27\n",
      "0.9916666666666667 59\n",
      "0.9916666666666667 63\n",
      "0.9916666666666667 64\n",
      "0.9916666666666667 65\n",
      "0.9916666666666667 70\n",
      "0.9916666666666667 72\n",
      "0.9916666666666667 75\n",
      "0.9916666666666667 76\n",
      "0.9916666666666667 77\n",
      "0.9916666666666667 79\n",
      "0.9916666666666667 84\n",
      "0.9916666666666667 87\n",
      "0.9916666666666667 88\n",
      "0.9916666666666667 91\n",
      "0.9916666666666667 93\n",
      "0.9916666666666667 95\n",
      "0.9916666666666667 96\n",
      "0.9916666666666667 97\n",
      "0.9916666666666667 98\n",
      "0.9916666666666667 99\n"
     ]
    }
   ],
   "source": [
    "# KNN\n",
    "for i in range(10, 100):\n",
    "    pca = PCA(n_components=i)\n",
    "    pca.fit(X_train)\n",
    "    X_pca = pca.transform(X_train)\n",
    "    X_pca_test = pca.transform(X_test)\n",
    "    \n",
    "    knn = KNeighborsClassifier(n_neighbors = 2)\n",
    "    model_knn = knn.fit(X_pca, y_train)\n",
    "    predict_knn = model_knn.predict(X_pca_test)\n",
    "    acc = accuracy_score(y_test, predict_knn)\n",
    "    if acc > 0.99:\n",
    "        print(acc, i)"
   ]
  },
  {
   "cell_type": "markdown",
   "id": "006c7a04",
   "metadata": {},
   "source": [
    "n_components = [13, 14, 15, 24, 25, 26, 27, 59, 63, 64, 70, 72, 75, 76, 77, 79, 84, 87, 88, 91, 93, 95, 96, 97, 98, 99], \n",
    "\n",
    "accuracy = 0.99167 = the same accuracy of KNN in Q1"
   ]
  },
  {
   "cell_type": "code",
   "execution_count": 13,
   "id": "888e7cfd",
   "metadata": {},
   "outputs": [
    {
     "name": "stdout",
     "output_type": "stream",
     "text": [
      "0.9583333333333334 11\n"
     ]
    }
   ],
   "source": [
    "# SVM\n",
    "for i in range(1, 12):\n",
    "    pca = PCA(n_components=i)\n",
    "    pca.fit(X_train)\n",
    "    X_pca = pca.transform(X_train)\n",
    "    X_pca_test = pca.transform(X_test)\n",
    "    \n",
    "    svm_pca = SVC(kernel='rbf', probability=True)\n",
    "    svm_pca.fit(X_pca, y_train)\n",
    "    predict_svm = svm_pca.predict(X_pca_test)\n",
    "    acc = accuracy_score(y_test, predict_svm)   \n",
    "    if acc > 0.95:\n",
    "        print(acc, i)"
   ]
  },
  {
   "cell_type": "markdown",
   "id": "1680c06f",
   "metadata": {},
   "source": [
    "n_components = 11, accuracy = 0.9853 = the same accuracy of SVM in Q1"
   ]
  },
  {
   "cell_type": "code",
   "execution_count": 14,
   "id": "3dfa67e5",
   "metadata": {},
   "outputs": [],
   "source": [
    "mpg = open(\"/Users/nuo/Documents/DA/HW3/auto-mpg.data.txt\")\n",
    "df = pd.DataFrame(columns = ['car name', 'mpg', 'cylinders', 'displacement', 'horsepower', 'weight', 'acceleration', 'model year', 'origin'])\n",
    "mpg_list = []\n",
    "cars = []\n",
    "for i in mpg:\n",
    "    a = i.split(\"\\'\")\n",
    "    mpg_list.append(a[0])\n",
    "    \n",
    "for data in mpg_list:\n",
    "    data = data.split(\"\\\"\")\n",
    "    cars.append(data)\n",
    "\n",
    "for c in cars:\n",
    "    nums = c[0].strip(\"\\t\")\n",
    "    nums = nums.split(\" \")\n",
    "    informations = []\n",
    "    informations.append(c[1])\n",
    "    for n in nums:\n",
    "        if n != \" \" and n != \"\" and n != \"?\":\n",
    "            try:\n",
    "                informations.append(int(n))\n",
    "            except ValueError:\n",
    "                informations.append(float(n))\n",
    "        if n == \"?\":\n",
    "            informations.append(np.nan)\n",
    "    df.loc[len(df)] = informations\n",
    "df.set_index('car name', inplace = True)\n",
    "\n",
    "# fill the ? number with mean\n",
    "df[\"horsepower\"] = df[\"horsepower\"].fillna(df[\"horsepower\"].mean())\n",
    "origin_df = df['origin']\n",
    "df = df.drop(['origin'], axis = 1)"
   ]
  },
  {
   "cell_type": "code",
   "execution_count": 15,
   "id": "2347503e",
   "metadata": {},
   "outputs": [],
   "source": [
    "X_train_q3, X_test_q3, y_train_q3, y_test_q3 = train_test_split(df, origin_df, test_size=0.3, random_state=42)"
   ]
  },
  {
   "cell_type": "code",
   "execution_count": 16,
   "id": "5439edaa",
   "metadata": {},
   "outputs": [
    {
     "name": "stdout",
     "output_type": "stream",
     "text": [
      "LR accuracy: 0.7333333333333333\n"
     ]
    }
   ],
   "source": [
    "# LR\n",
    "lr_q3 = LogisticRegression(multi_class = 'multinomial', solver='lbfgs')\n",
    "lr_q3.fit(X_train_q3, y_train_q3)\n",
    "lr_pred = lr_q3.predict(X_test_q3)\n",
    "lr_acc = accuracy_score(y_test_q3, lr_pred)\n",
    "print(\"LR accuracy:\", lr_acc)"
   ]
  },
  {
   "cell_type": "code",
   "execution_count": 17,
   "id": "c2c4ab85",
   "metadata": {},
   "outputs": [],
   "source": [
    "# KNN\n",
    "accuracy_knn = 0\n",
    "k_highest = 0\n",
    "prediction = []\n",
    "for i in range(2, 10):\n",
    "    knn = KNeighborsClassifier(n_neighbors = i)\n",
    "    model_knn = knn.fit(X_train_q3, y_train_q3)\n",
    "    predict_knn = model_knn.predict(X_test_q3)\n",
    "    acc = accuracy_score(y_test_q3, predict_knn)\n",
    "    if acc > accuracy_knn:\n",
    "        accuracy_knn = acc\n",
    "        k_highest = i\n",
    "        prediction = predict_knn"
   ]
  },
  {
   "cell_type": "code",
   "execution_count": 18,
   "id": "5404f3a6",
   "metadata": {},
   "outputs": [
    {
     "name": "stdout",
     "output_type": "stream",
     "text": [
      "KNN accuracy: 0.7583333333333333 , k = 5\n"
     ]
    }
   ],
   "source": [
    "print(\"KNN accuracy:\" , accuracy_knn, ', k =', k_highest)"
   ]
  },
  {
   "cell_type": "code",
   "execution_count": 19,
   "id": "f27021d1",
   "metadata": {},
   "outputs": [
    {
     "name": "stdout",
     "output_type": "stream",
     "text": [
      "SVM accuracy: 0.7666666666666667\n"
     ]
    }
   ],
   "source": [
    "# SVM\n",
    "svm = SVC(kernel='linear', probability=True)\n",
    "svm.fit(X_train_q3, y_train_q3)\n",
    "predict_svm = svm.predict(X_test_q3)\n",
    "acc = accuracy_score(y_test_q3, predict_svm)\n",
    "print(\"SVM accuracy:\" ,acc)"
   ]
  },
  {
   "cell_type": "markdown",
   "id": "6e840cec",
   "metadata": {},
   "source": [
    "SVM has the best accuracy in this case."
   ]
  },
  {
   "cell_type": "markdown",
   "id": "b4d1f0e3",
   "metadata": {},
   "source": [
    "三者表現：SVM(0.7667) > LR = KNN(0.7583)，推測原因是因為auto-mpg數據的分佈特性：\n",
    "1. 找出最大化類別間邊緣的決策邊界：SVM可以處理具有複雜非線性邊界的數據集，並且比其他分類器對異常值不太敏感。\n",
    "2. SVM包含線性、多項式、基於半徑等函數，可以將數據轉換成一個更高維度的空間，使得類別更容易分離。所以提高SVM在數據集上的性能。"
   ]
  },
  {
   "cell_type": "code",
   "execution_count": null,
   "id": "2cd5d0f1",
   "metadata": {},
   "outputs": [],
   "source": []
  }
 ],
 "metadata": {
  "kernelspec": {
   "display_name": "Python 3 (ipykernel)",
   "language": "python",
   "name": "python3"
  },
  "language_info": {
   "codemirror_mode": {
    "name": "ipython",
    "version": 3
   },
   "file_extension": ".py",
   "mimetype": "text/x-python",
   "name": "python",
   "nbconvert_exporter": "python",
   "pygments_lexer": "ipython3",
   "version": "3.9.12"
  }
 },
 "nbformat": 4,
 "nbformat_minor": 5
}
